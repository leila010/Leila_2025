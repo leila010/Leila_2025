{
 "cells": [
  {
   "cell_type": "raw",
   "metadata": {
    "vscode": {
     "languageId": "raw"
    }
   },
   "source": [
    "---\n",
    "comments: True\n",
    "layout: post\n",
    "title: Final Code Changes\n",
    "description: All changes that were made in the game explanied, and shown.\n",
    "author: Leila H.\n",
    "permalink: Final/Review/final-code-changes/\n",
    "categories: [Final Review]\n",
    "---"
   ]
  }
 ],
 "metadata": {
  "language_info": {
   "name": "python"
  }
 },
 "nbformat": 4,
 "nbformat_minor": 2
}
