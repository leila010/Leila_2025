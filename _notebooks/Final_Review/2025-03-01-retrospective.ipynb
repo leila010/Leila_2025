{
 "cells": [
  {
   "cell_type": "raw",
   "metadata": {
    "vscode": {
     "languageId": "raw"
    }
   },
   "source": [
    "---\n",
    "comments: True\n",
    "layout: post\n",
    "title: Retrospective\n",
    "description: Things I have learned over 24 weeks, N@TM, plans for the future, etc.\n",
    "author: Leila H.\n",
    "permalink: Final/Review/retrospective/\n",
    "categories: [Final Review]\n",
    "---"
   ]
  }
 ],
 "metadata": {
  "language_info": {
   "name": "python"
  }
 },
 "nbformat": 4,
 "nbformat_minor": 2
}
