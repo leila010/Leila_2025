{
 "cells": [
  {
   "cell_type": "raw",
   "metadata": {
    "vscode": {
     "languageId": "raw"
    }
   },
   "source": [
    "---\n",
    "comments: True\n",
    "layout: post\n",
    "title: Iteration Homework\n",
    "description: An intro to data abstraction\n",
    "permalink: /csse/javascript/fundamentals/iteration/hw\n",
    "categories: [CSSE JavaScript Fundamentals]\n",
    "author: Kian Zhu, Michael Xu and Srinaga Pillutla\n",
    "---"
   ]
  },
  {
   "cell_type": "markdown",
   "metadata": {},
   "source": [
    "## Homework Assignment: for Loop Challenge\n",
    "Task: Create a program that does the following:\n",
    "\n",
    "Initialize an array with the names of five of your favorite movies.\n",
    "Use a for loop to iterate through the array and print each movie name to the console.\n",
    "After printing all movie names, print a message indicating how many movies you listed."
   ]
  },
  {
   "cell_type": "markdown",
   "metadata": {},
   "source": [
    "# **Homework**\n",
    "\n",
    "Create a **3 by 3, 2D list** that represents a **tictactoe board**.\n",
    "Use **\"X\"** for X, **\"O\"** for O, and **None** for empty tiles.\n",
    "\n",
    "Ex. board = [[\"X\",\"None\",\"O\"],  \n",
    "&emsp;&emsp;&emsp;&emsp;&emsp;&emsp;&ensp;[\"X\",\"O\",\"None\"],  \n",
    "&emsp;&emsp;&emsp;&emsp;&emsp;&emsp;&ensp;[\"O\",\"None\",\"X\"]]\n",
    "\n",
    "Iterate over the board and **identify whether it is player X's or player O's turn.**\n",
    "\n",
    "**Hint**: count the number of moves(non-None). (X goes first)\n",
    "\n",
    "**Optional**: use console.error() to report an error if the board is illegal (ex. 7 \"X\"s and 2 \"O\"s)"
   ]
  },
  {
   "cell_type": "code",
   "execution_count": 2,
   "metadata": {
    "vscode": {
     "languageId": "javascript"
    }
   },
   "outputs": [
    {
     "data": {
      "application/javascript": "let board = [\n    [\"X\", \"None\", \"O\"],\n    [\"X\", \"O\", \"None\"],\n    [\"O\", \"None\", \"X\"]\n  ];\n  \n  function countMoves(symbol) {\n    let count = 0;\n    for (let row of board) {\n      for (let cell of row) {\n        if (cell === symbol) {\n          count++;\n        }\n      }\n    }\n    return count;\n  }\n  \n  function determineTurn() {\n    let xCount = countMoves(\"X\");\n    let oCount = countMoves(\"O\");\n  \n    if (xCount < oCount || xCount > oCount + 1) {\n      console.error(\"Error: Invalid board state. The number of 'X' and 'O' moves is incorrect.\");\n      return;\n    }\n  \n    if (xCount === oCount) {\n      console.log(\"It's Player X's turn.\");\n    } else if (xCount > oCount) {\n      console.log(\"It's Player O's turn.\");\n    }\n  }\n  \n  determineTurn();\n  \n  let outerFactor = 1;  \n  \n  while (outerFactor <= 10) {\n    let innerFactor = 1; \n  \n    let rowOutput = \"\";\n  \n    while (innerFactor <= 10) {\n      let product = outerFactor * innerFactor;\n  \n      rowOutput += product + \"\\t\";\n  \n      innerFactor++;\n    }\n  \n\n    console.log(rowOutput);\n  \n    \n    outerFactor++;\n  }\n  \n\n",
      "text/plain": [
       "<IPython.core.display.Javascript object>"
      ]
     },
     "metadata": {},
     "output_type": "display_data"
    }
   ],
   "source": [
    "%%js \n",
    "let board = [\n",
    "    [\"X\", \"None\", \"O\"],\n",
    "    [\"X\", \"O\", \"None\"],\n",
    "    [\"O\", \"None\", \"X\"]\n",
    "  ];\n",
    "  \n",
    "  function countMoves(symbol) {\n",
    "    let count = 0;\n",
    "    for (let row of board) {\n",
    "      for (let cell of row) {\n",
    "        if (cell === symbol) {\n",
    "          count++;\n",
    "        }\n",
    "      }\n",
    "    }\n",
    "    return count;\n",
    "  }\n",
    "  \n",
    "  function determineTurn() {\n",
    "    let xCount = countMoves(\"X\");\n",
    "    let oCount = countMoves(\"O\");\n",
    "  \n",
    "    if (xCount < oCount || xCount > oCount + 1) {\n",
    "      console.error(\"Error: Invalid board state. The number of 'X' and 'O' moves is incorrect.\");\n",
    "      return;\n",
    "    }\n",
    "  \n",
    "    if (xCount === oCount) {\n",
    "      console.log(\"It's Player X's turn.\");\n",
    "    } else if (xCount > oCount) {\n",
    "      console.log(\"It's Player O's turn.\");\n",
    "    }\n",
    "  }\n",
    "  \n",
    "  determineTurn();\n",
    "  \n",
    "  let outerFactor = 1;  \n",
    "  \n",
    "  while (outerFactor <= 10) {\n",
    "    let innerFactor = 1; \n",
    "  \n",
    "    let rowOutput = \"\";\n",
    "  \n",
    "    while (innerFactor <= 10) {\n",
    "      let product = outerFactor * innerFactor;\n",
    "  \n",
    "      rowOutput += product + \"\\t\";\n",
    "  \n",
    "      innerFactor++;\n",
    "    }\n",
    "  \n",
    "\n",
    "    console.log(rowOutput);\n",
    "  \n",
    "    \n",
    "    outerFactor++;\n",
    "  }\n",
    "  \n",
    "\n"
   ]
  },
  {
   "cell_type": "markdown",
   "metadata": {},
   "source": [
    "## H.W application of While Loops. \n",
    "\n",
    "Create the Outer Loop:\n",
    "\n",
    "Use a while loop that runs while outerFactor is less than or equal to 10.\n",
    "Initialize the Inner Loop Variable:\n",
    "\n",
    "Inside the outer loop, create another variable called innerFactor and set it to 1.\n",
    "Create the Inner Loop:\n",
    "\n",
    "Inside the outer loop, use another while loop that runs while innerFactor is less than or equal to 10.\n",
    "Calculate the Product:\n",
    "\n",
    "Inside the inner loop, calculate the product of outerFactor and innerFactor.\n",
    "Print the Product:\n",
    "\n",
    "Print the product using console.log(), formatting the output neatly.\n",
    "Increment the Inner Loop Variable:\n",
    "\n",
    "After printing the product, increment innerFactor by 1.\n",
    "Move to the Next Line:\n",
    "\n",
    "After the inner loop finishes, print a new line to separate rows.\n",
    "Increment the Outer Loop Variable:\n",
    "\n",
    "Increment outerFactor by 1 to move to the next row in the table."
   ]
  }
 ],
 "metadata": {
  "kernelspec": {
   "display_name": "venv",
   "language": "python",
   "name": "python3"
  },
  "language_info": {
   "codemirror_mode": {
    "name": "ipython",
    "version": 3
   },
   "file_extension": ".py",
   "mimetype": "text/x-python",
   "name": "python",
   "nbconvert_exporter": "python",
   "pygments_lexer": "ipython3",
   "version": "3.10.12"
  }
 },
 "nbformat": 4,
 "nbformat_minor": 2
}
