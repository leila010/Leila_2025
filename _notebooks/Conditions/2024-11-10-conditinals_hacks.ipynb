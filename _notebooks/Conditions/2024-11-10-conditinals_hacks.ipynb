{
 "cells": [
  {
   "cell_type": "raw",
   "metadata": {
    "vscode": {
     "languageId": "raw"
    }
   },
   "source": [
    "---\n",
    "comments: True\n",
    "layout: post\n",
    "title: conditionals lesson hacks\n",
    "description: conditionals hacks\n",
    "permalink: /csse/javascript/fundamentals/conditionals/hacks\n",
    "type: ccc\n",
    "---"
   ]
  },
  {
   "cell_type": "code",
   "execution_count": 51,
   "metadata": {
    "vscode": {
     "languageId": "html"
    }
   },
   "outputs": [
    {
     "data": {
      "text/html": [
       "\n",
       "<output id=\"output\"></output>\n",
       "\n",
       "<script>\n",
       "   \n",
       "    function initializeData(data = null) {\n",
       "        let speed = 5; \n",
       "\n",
       "       \n",
       "        if (data !== null && data.speed !== undefined) {\n",
       "            speed = data.speed;\n",
       "        }\n",
       "\n",
       "        \n",
       "        document.getElementById(\"output\").innerText = \"Speed: \" + speed;\n",
       "\n",
       "        \n",
       "        console.log(\"Speed:\", speed);\n",
       "    }\n",
       "\n",
       "   \n",
       "    initializeData();\n",
       "\n",
       "   \n",
       "    const jsonData = { speed: 10 };\n",
       "    initializeData(jsonData);\n",
       "</script>\n"
      ],
      "text/plain": [
       "<IPython.core.display.HTML object>"
      ]
     },
     "metadata": {},
     "output_type": "display_data"
    }
   ],
   "source": [
    "%%html\n",
    "\n",
    "<output id=\"output\"></output>\n",
    "\n",
    "<script>\n",
    "   \n",
    "    function initializeData(data = null) {\n",
    "        let speed = 5; \n",
    "\n",
    "       \n",
    "        if (data !== null && data.speed !== undefined) {\n",
    "            speed = data.speed;\n",
    "        }\n",
    "\n",
    "        \n",
    "        document.getElementById(\"output\").innerText = \"Speed: \" + speed;\n",
    "\n",
    "        \n",
    "        console.log(\"Speed:\", speed);\n",
    "    }\n",
    "\n",
    "   \n",
    "    initializeData();\n",
    "\n",
    "   \n",
    "    const jsonData = { speed: 10 };\n",
    "    initializeData(jsonData);\n",
    "</script>\n"
   ]
  },
  {
   "cell_type": "markdown",
   "metadata": {},
   "source": [
    "#### <span style=\"color: #ADD8E6; text-shadow: 3px 3px 8px #4682B4; font-weight: bold; font-size: 2em;\">Popcorn Hacks:</span>\n",
    "Develop a basic combat system that allows characters to engage in battles with enemies. This will help you practice using functions, conditionals, and basic game mechanics in JavaScript.\n",
    "\n",
    "---\n",
    "##### <span style=\"color: #FF6347; text-shadow: 2px 2px 6px #8B0000; font-weight: bold; font-size: 1.5em;\">Popcorn Hack Part 1 - 1: Using <code>initializeData</code> Function</span> \n",
    "\n",
    "1. Add `speed` to the <code>initializeData(data = null)</code> function and give it a default value.\n",
    "2. Add `seed` to the HTML output.\n",
    "3. Add `speed` to the JSON data.\n",
    "4. Test calling <code>initializeData</code> with no argument, and then using a `data` JSON object as an argument.\n",
    "\n",
    "##### <span style=\"color: #FF6347; text-shadow: 2px 2px 6px #8B0000; font-weight: bold; font-size: 1.5em;\">Popcorn Hack Part 1 - 2: Adding IJKL Key Conditions in <code>handleKeyDown</code></span> \n",
    "\n",
    "1. Add a `case` statement for each of the IJKL keys in the `handleKeyDown({ keyCode })` switch statement.\n",
    "2. Send the key code for each IJKL key to the <code>gameObject.handleKeyDown</code> method.\n",
    "3. Use <code>console.log()</code> to output `gameObject`.\n",
    "\n",
    "---\n",
    "\n",
    "##### <span style=\"color: #FF6347; text-shadow: 2px 2px 6px #8B0000; font-weight: bold; font-size: 1.5em;\">Popcorn Hack 2: Creating a Simple Attack System</span>\n",
    "1. Add a <code>boolean</code> variable named <code>canAttack</code>, and set it to <code>false</code>.\n",
    "2. Use an <code>if</code> statement to check if the player can attack.\n",
    "3. If <code>canAttack</code> is <code>false</code>, output \"Can't attack.\"\n",
    "4. Use <code>Math.random()</code> to determine if the player is allowed to attack. (Tip: Use ChatGPT for help with <code>Math.random()</code> if needed!)\n",
    "5. This will pick a random number to decide if the attack can happen.\n",
    "6. Use <code>console.log()</code> for all outputs.\n",
    "\n",
    "---\n",
    "\n",
    "##### <span style=\"color: #FF6347; text-shadow: 2px 2px 6px #8B0000; font-weight: bold; font-size: 1.5em;\">Popcorn Hack 3: Level Requirement Check</span>\n",
    "1. Use the <code>ternary operator</code> to create an output if the player meets the level requirements.\n",
    "2. If not, output a message telling the player they are under-leveled.\n",
    "3. Use <code>console.log()</code> to print your output."
   ]
  },
  {
   "cell_type": "code",
   "execution_count": 52,
   "metadata": {
    "vscode": {
     "languageId": "javascript"
    }
   },
   "outputs": [
    {
     "data": {
      "application/javascript": "\n<div id=\"output2\"></div>\n\n<script>\n    function code(){\n        let level = \"100\";\n        let output = document.getElementById(\"output2\");\n        let message = (level === \"100\") ? \"Great, you are on the perfect level!\" : \"Eugh, go away noob you are under-leveled!\";\n\n        output.innerHTML = message;  \n        console.log(\"ran\");         \n        console.log(level, output, message); \n\n       \n        console.log(message);\n    }\n\n\n    code();\n</script>\n",
      "text/plain": [
       "<IPython.core.display.Javascript object>"
      ]
     },
     "metadata": {},
     "output_type": "display_data"
    }
   ],
   "source": [
    "%%js\n",
    "\n",
    "<div id=\"output2\"></div>\n",
    "\n",
    "<script>\n",
    "    function code(){\n",
    "        let level = \"100\";\n",
    "        let output = document.getElementById(\"output2\");\n",
    "        let message = (level === \"100\") ? \"Great, you are on the perfect level!\" : \"Eugh, go away noob you are under-leveled!\";\n",
    "\n",
    "        output.innerHTML = message;  \n",
    "        console.log(\"ran\");         \n",
    "        console.log(level, output, message); \n",
    "\n",
    "       \n",
    "        console.log(message);\n",
    "    }\n",
    "\n",
    "\n",
    "    code();\n",
    "</script>\n"
   ]
  },
  {
   "cell_type": "code",
   "execution_count": 53,
   "metadata": {
    "vscode": {
     "languageId": "javascript"
    }
   },
   "outputs": [
    {
     "data": {
      "application/javascript": "\n\nlet gameObject = {\n    handleKeyDown: function(event) {\n        const keyCode = event.keyCode || event.which; \n        console.log('Key Pressed:', String.fromCharCode(keyCode), 'Code:', keyCode);\n    }\n};\n\n\nconst keyEvents = [\n    new KeyboardEvent('keydown', { keyCode: 73 }), // i\n    new KeyboardEvent('keydown', { keyCode: 74 }), // j\n    new KeyboardEvent('keydown', { keyCode: 75 }), // k\n    new KeyboardEvent('keydown', { keyCode: 76 })  // l\n];\n\n\nkeyEvents.forEach(event => gameObject.handleKeyDown(event));\n\nconsole.log(gameObject);\n",
      "text/plain": [
       "<IPython.core.display.Javascript object>"
      ]
     },
     "metadata": {},
     "output_type": "display_data"
    }
   ],
   "source": [
    "%%js\n",
    "\n",
    "\n",
    "let gameObject = {\n",
    "    handleKeyDown: function(event) {\n",
    "        const keyCode = event.keyCode || event.which; \n",
    "        console.log('Key Pressed:', String.fromCharCode(keyCode), 'Code:', keyCode);\n",
    "    }\n",
    "};\n",
    "\n",
    "\n",
    "const keyEvents = [\n",
    "    new KeyboardEvent('keydown', { keyCode: 73 }), // i\n",
    "    new KeyboardEvent('keydown', { keyCode: 74 }), // j\n",
    "    new KeyboardEvent('keydown', { keyCode: 75 }), // k\n",
    "    new KeyboardEvent('keydown', { keyCode: 76 })  // l\n",
    "];\n",
    "\n",
    "\n",
    "keyEvents.forEach(event => gameObject.handleKeyDown(event));\n",
    "\n",
    "console.log(gameObject);"
   ]
  },
  {
   "cell_type": "markdown",
   "metadata": {},
   "source": [
    "<!-- Homework Section with Enhanced Glowing Title -->\n",
    "\n",
    "### <span style=\"color: #78C0E0; text-shadow: 0 0 10px #1E3D59, 0 0 20px #1E3D59; font-weight: bold; font-size: 2em;\">Homework:</span>\n",
    "\n",
    "#### <span style=\"color: #FFA07A; text-shadow: 0 0 8px #3C3C3C, 0 0 15px #3C3C3C; font-weight: bold; font-size: 1.5em;\">Objectives</span>\n",
    "\n",
    "<span style=\"font-size: 1.2em; color: #E5E5E5; line-height: 1.8;\">\n",
    "  <br><strong style=\"color: #FFD700;\">Option 1:</strong> <span style=\"color: #C0C0C0;\">Create a simple combat system.</span>\n",
    "  <ul style=\"color: #D3D3D3; margin-left: 20px; list-style-type: circle;\">\n",
    "    <li>Allow characters to fight enemies.</li>\n",
    "    <li>Use basic functions and conditionals in JavaScript.</li>\n",
    "    <li>Focus on making it easy to understand how battles work.</li>\n",
    "  </ul>\n",
    "\n",
    "  <br>\n",
    "  <strong style=\"color: #FFD700;\">Option 2:</strong> <span style=\"color: #C0C0C0;\">Make a dialogue system for your NPC (Non-Player Character).</span>\n",
    "  <ul style=\"color: #D3D3D3; margin-left: 20px; list-style-type: circle;\">\n",
    "    <li>Use the <code style=\"color: #7FFFD4;\">prompt()</code> function to ask the player for a response (choose a number from 1 to 4).</li>\n",
    "    <li>This dialogue should appear when the player gets close to the NPC and presses a button.</li>\n",
    "  </ul>\n",
    "</span>\n",
    "\n",
    "### <span style=\"color: #FFA07A; text-shadow: 1px 1px 6px #3C3C3C; font-weight: bold;\">Additional Tips:</span>\n",
    "- <span style=\"color: #FFD700;\">**For Option 1:**</span>\n",
    "  <ul style=\"color: #D3D3D3; margin-left: 20px; list-style-type: square;\">\n",
    "    <li>Start by writing down what the characters and enemies will be. Create simple names and attributes (like health).</li>\n",
    "    <li>Use <code style=\"color: #7FFFD4;\">console.log()</code> to print out what's happening at each step. This will help you understand the flow of your code.</li>\n",
    "    <li>Look for example code online to see how others have created combat systems. Don't be afraid to borrow ideas!</li>\n",
    "  </ul>\n",
    "\n",
    "- <span style=\"color: #FFD700;\">**For Option 2:**</span>\n",
    "  <ul style=\"color: #D3D3D3; margin-left: 20px; list-style-type: square;\">\n",
    "    <li>Plan out the dialogue options before you start coding. Write them down in a list.</li>\n",
    "    <li>Use comments in your code to remind yourself what each part does. For example, <code style=\"color: #7FFFD4;\">// Ask the player for a response</code>.</li>\n",
    "    <li>Test your code frequently. After writing a few lines, run it to see if it works before adding more.</li>\n",
    "  </ul>"
   ]
  },
  {
   "cell_type": "code",
   "execution_count": 3,
   "metadata": {
    "vscode": {
     "languageId": "javascript"
    }
   },
   "outputs": [
    {
     "data": {
      "application/javascript": "\nconst npcDialogue = [\n    \"Hello traveler, what brings you here?\",\n    \"The road ahead is dangerous. Do you need supplies?\",\n    \"I haven't seen anyone around here in days. Be careful!\",\n    \"Good luck on your journey! May the winds be in your favor.\"\n];\n\n\nconst dialogueOptions = [\n    \"1. Who are you?\",\n    \"2. Can you help me with directions?\",\n    \"3. Do you have any supplies?\",\n    \"4. Goodbye.\"\n];\n\n\nfunction displayDialogue() {\n    console.log(\"You approach the NPC. They look at you and speak...\");\n\n\n    console.log(\"\\nChoose your response:\");\n    dialogueOptions.forEach(option => console.log(option));\n    \n   \n    const playerChoice = 2; \n    console.log(`\\nYou chose option ${playerChoice}: \"${dialogueOptions[playerChoice - 1]}\"`);\n\n\n    if (playerChoice >= 1 && playerChoice <= 4) {\n        console.log(\"\\nNPC says: \" + npcDialogue[playerChoice - 1]);\n    } else {\n        console.log(\"Invalid choice.\");\n    }\n}\n\ndisplayDialogue();\n",
      "text/plain": [
       "<IPython.core.display.Javascript object>"
      ]
     },
     "metadata": {},
     "output_type": "display_data"
    }
   ],
   "source": [
    "%%js \n",
    "\n",
    "const npcDialogue = [\n",
    "    \"Hello traveler, what brings you here?\",\n",
    "    \"The road ahead is dangerous. Do you need supplies?\",\n",
    "    \"I haven't seen anyone around here in days. Be careful!\",\n",
    "    \"Good luck on your journey! May the winds be in your favor.\"\n",
    "];\n",
    "\n",
    "\n",
    "const dialogueOptions = [\n",
    "    \"1. Who are you?\",\n",
    "    \"2. Can you help me with directions?\",\n",
    "    \"3. Do you have any supplies?\",\n",
    "    \"4. Goodbye.\"\n",
    "];\n",
    "\n",
    "\n",
    "function displayDialogue() {\n",
    "    console.log(\"You approach the NPC. They look at you and speak...\");\n",
    "\n",
    "\n",
    "    console.log(\"\\nChoose your response:\");\n",
    "    dialogueOptions.forEach(option => console.log(option));\n",
    "    \n",
    "   \n",
    "    const playerChoice = 2; \n",
    "    console.log(`\\nYou chose option ${playerChoice}: \"${dialogueOptions[playerChoice - 1]}\"`);\n",
    "\n",
    "\n",
    "    if (playerChoice >= 1 && playerChoice <= 4) {\n",
    "        console.log(\"\\nNPC says: \" + npcDialogue[playerChoice - 1]);\n",
    "    } else {\n",
    "        console.log(\"Invalid choice.\");\n",
    "    }\n",
    "}\n",
    "\n",
    "displayDialogue();\n"
   ]
  }
 ],
 "metadata": {
  "kernelspec": {
   "display_name": "venv",
   "language": "python",
   "name": "python3"
  },
  "language_info": {
   "codemirror_mode": {
    "name": "ipython",
    "version": 3
   },
   "file_extension": ".py",
   "mimetype": "text/x-python",
   "name": "python",
   "nbconvert_exporter": "python",
   "pygments_lexer": "ipython3",
   "version": "3.10.12"
  }
 },
 "nbformat": 4,
 "nbformat_minor": 2
}
