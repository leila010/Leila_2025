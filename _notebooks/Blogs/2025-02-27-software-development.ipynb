{
 "cells": [
  {
   "cell_type": "raw",
   "metadata": {
    "vscode": {
     "languageId": "raw"
    }
   },
   "source": [
    "---\n",
    "comments: True\n",
    "layout: post\n",
    "title: Software Development\n",
    "description: methods, instantiating objects, using objects, calling methods, parameters, return values\n",
    "author: Leila H.\n",
    "permalink: Final/Exam/Blogs/software-development/\n",
    "categories: [Final Exam Blogs]\n",
    "---"
   ]
  },
  {
   "cell_type": "markdown",
   "metadata": {},
   "source": [
    "#### <span style=\"color: #blue; text-shadow: 3px 3px 8px #4682B4; font-weight: bold; font-size: 1.3em;\">   Software Development Lifecycle:</span>\n",
    "The Software Development Lifecycle is the process used by software developers to design, develop, test, and deploy software applications. It defines a series of steps or stages that guide the creation of software, from initial planning to the final product release. The Software Development Lifecycle ensures that software is developed systematically, efficiently, and meets quality standards."
   ]
  },
  {
   "cell_type": "markdown",
   "metadata": {},
   "source": [
    "#### <span style=\"color: #blue; text-shadow: 3px 3px 8px #4682B4; font-weight: bold; font-size: 1.3em;\">   Source Control:</span>\n",
    "Source control (or version control) is the practice of managing and tracking changes to the codebase over time. Git is one of the most popular tools used for source control. It allows developers to keep track of every modification made to the project, collaborate with others, and revert to previous versions if needed.\n",
    "\n",
    "- Why it’s important: It helps maintain a history of changes and ensures developers can collaborate on the same project without overwriting each other’s work. It also helps to manage different versions of the project."
   ]
  },
  {
   "cell_type": "markdown",
   "metadata": {},
   "source": [
    "#### <span style=\"color: #blue; text-shadow: 3px 3px 8px #4682B4; font-weight: bold; font-size: 1.3em;\">   Forking:</span>\n",
    "Forking is the process of creating a personal copy of someone else's project. This allows developers to make changes and experiment without affecting the original project. Forking is common when contributing to open-source projects.\n",
    "\n",
    "- Why it’s important: Forking allows independent work on a copy of the project, providing freedom to experiment while keeping the original project safe. Once changes are ready, developers can propose them back to the original project."
   ]
  },
  {
   "cell_type": "markdown",
   "metadata": {},
   "source": [
    "#### <span style=\"color: #blue; text-shadow: 3px 3px 8px #4682B4; font-weight: bold; font-size: 1.3em;\">   Branching:</span>\n",
    "Branching is the creation of a new line of development in the codebase. Developers use branches to work on different features or bug fixes without interfering with the main code (often called main or master).\n",
    "\n",
    "- Why it’s important: It enables multiple developers to work on different features simultaneously without overwriting each other's work. It also allows for a clean, isolated workspace to develop new features or fix bugs."
   ]
  },
  {
   "cell_type": "markdown",
   "metadata": {},
   "source": [
    "#### <span style=\"color: #blue; text-shadow: 3px 3px 8px #4682B4; font-weight: bold; font-size: 1.3em;\">   Building:</span>\n",
    "Building refers to the process of converting source code into an executable form. This could involve compiling code, linking libraries, and preparing the project for testing or deployment.\n",
    "\n",
    "- Why it’s important: Building is essential because it verifies that the code is syntactically and logically correct. It ensures that the codebase is ready for further testing, integration, or production use."
   ]
  },
  {
   "cell_type": "markdown",
   "metadata": {},
   "source": [
    "#### <span style=\"color: #blue; text-shadow: 3px 3px 8px #4682B4; font-weight: bold; font-size: 1.3em;\">   Testing and Verification:</span>\n",
    "Testing and verification involve checking that the software works as expected and meets the requirements. This can include different types of testing, such as unit testing, integration testing, and functional testing.\n",
    "\n",
    "- Why it’s important: Testing ensures that the software performs as expected, is bug-free, and provides a good user experience. Verification ensures the product meets the project requirements and is reliable."
   ]
  },
  {
   "cell_type": "markdown",
   "metadata": {},
   "source": [
    "#### <span style=\"color: #blue; text-shadow: 3px 3px 8px #4682B4; font-weight: bold; font-size: 1.3em;\">   Pull Requests (PRs):</span>\n",
    "A pull request is a proposal to merge changes from one branch into another. When a developer finishes working on a feature or bug fix in their branch, they create a pull request to request that their changes be reviewed and merged into the main codebase.\n",
    "\n",
    "- Why it’s important: Pull requests enable code review, allowing team members to evaluate changes for bugs, style issues, or potential improvements before merging them into the main branch. They improve the quality of the codebase and encourage collaboration."
   ]
  },
  {
   "cell_type": "markdown",
   "metadata": {},
   "source": [
    "#### <span style=\"color: #blue; text-shadow: 3px 3px 8px #4682B4; font-weight: bold; font-size: 1.3em;\">   Merging:</span>\n",
    "Merging is the process of combining the changes from one branch (e.g., a feature branch) into another branch (usually the main branch). After a pull request is reviewed and approved, the changes are merged to incorporate them into the main project.\n",
    "\n",
    "- Why it’s important: Merging helps keep the project up-to-date with new features or bug fixes. It ensures that the codebase reflects the most recent changes and integrates contributions from various developers.\n",
    "Example Blog Title:"
   ]
  },
  {
   "cell_type": "markdown",
   "metadata": {},
   "source": [
    "#### <span style=\"color: #blue; text-shadow: 3px 3px 8px #4682B4; font-weight: bold; font-size: 1.3em;\">   Deployment:</span>\n",
    "Deployment is the final step where the software is made available for use. This could mean deploying to a staging environment for further testing or directly to production for end-users.\n",
    "\n",
    "- Why it’s important: Deployment makes the product available to users. Proper deployment ensures that the application runs smoothly in the production environment and can be accessed by the intended users."
   ]
  }
 ],
 "metadata": {
  "kernelspec": {
   "display_name": "venv",
   "language": "python",
   "name": "python3"
  },
  "language_info": {
   "codemirror_mode": {
    "name": "ipython",
    "version": 3
   },
   "file_extension": ".py",
   "mimetype": "text/x-python",
   "name": "python",
   "nbconvert_exporter": "python",
   "pygments_lexer": "ipython3",
   "version": "3.10.12"
  }
 },
 "nbformat": 4,
 "nbformat_minor": 2
}
