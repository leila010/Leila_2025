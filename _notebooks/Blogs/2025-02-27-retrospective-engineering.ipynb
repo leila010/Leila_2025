{
 "cells": [
  {
   "cell_type": "raw",
   "metadata": {
    "vscode": {
     "languageId": "raw"
    }
   },
   "source": [
    "---\n",
    "comments: True\n",
    "layout: post\n",
    "title: Retrospective Engineering\n",
    "description: methods, instantiating objects, using objects, calling methods, parameters, return values\n",
    "author: Leila H.\n",
    "permalink: Final/Exam/Blogs/retrospective-engineering/\n",
    "categories: [Final Exam Blogs]\n",
    "---"
   ]
  }
 ],
 "metadata": {
  "kernelspec": {
   "display_name": "venv",
   "language": "python",
   "name": "python3"
  },
  "language_info": {
   "codemirror_mode": {
    "name": "ipython",
    "version": 3
   },
   "file_extension": ".py",
   "mimetype": "text/x-python",
   "name": "python",
   "nbconvert_exporter": "python",
   "pygments_lexer": "ipython3",
   "version": "3.10.12"
  }
 },
 "nbformat": 4,
 "nbformat_minor": 2
}
