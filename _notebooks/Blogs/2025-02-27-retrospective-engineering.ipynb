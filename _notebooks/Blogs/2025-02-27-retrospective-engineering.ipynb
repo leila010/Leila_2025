{
 "cells": [
  {
   "cell_type": "raw",
   "metadata": {
    "vscode": {
     "languageId": "raw"
    }
   },
   "source": [
    "---\n",
    "comments: True\n",
    "layout: post\n",
    "title: Retrospective Engineering\n",
    "description: methods, instantiating objects, using objects, calling methods, parameters, return values\n",
    "author: Leila H.\n",
    "permalink: Final/Exam/Blogs/retrospective-engineering/\n",
    "categories: [Final Exam Blogs]\n",
    "---"
   ]
  },
  {
   "cell_type": "markdown",
   "metadata": {},
   "source": [
    "#### <span style=\"color: #blue; text-shadow: 3px 3px 8px #4682B4; font-weight: bold; font-size: 1.3em;\">   Retrospective Engineering Blogs on Demos: Live Reviews Explanation:</span>\n",
    "A retrospective in the context of engineering and software development is a meeting or review that occurs after a project or sprint to reflect on what went well, what didn’t, and what can be improved. When it comes to demos and live reviews, this process is focused on evaluating the live presentation or demonstration of the product, feature, or milestone. Below is a breakdown of the key ideas:"
   ]
  },
  {
   "cell_type": "markdown",
   "metadata": {},
   "source": [
    "#### <span style=\"color: #blue; text-shadow: 3px 3px 8px #4682B4; font-weight: bold; font-size: 1.3em;\">   1. What are Demos?</span>\n",
    "Demos (short for demonstrations) are live presentations where engineers or developers show off the features or progress they’ve made in the project. It could be a new feature, a bug fix, or any new functionality. In a demo, the team shows the product to stakeholders, such as clients, team members, or managers."
   ]
  },
  {
   "cell_type": "markdown",
   "metadata": {},
   "source": [
    "#### <span style=\"color: #blue; text-shadow: 3px 3px 8px #4682B4; font-weight: bold; font-size: 1.3em;\">   2. What are Live Reviews?</span>\n",
    "Live reviews are feedback sessions held immediately after a demo. This allows stakeholders to provide instant feedback on the functionality, usability, or any other aspect of the demoed feature. It's an opportunity for the team to address any issues or make improvements based on what is discussed."
   ]
  },
  {
   "cell_type": "markdown",
   "metadata": {},
   "source": [
    "#### <span style=\"color: #blue; text-shadow: 3px 3px 8px #4682B4; font-weight: bold; font-size: 1.3em;\">   3. Why are Retrospectives Important for Demos?</span>\n",
    "Retrospectives focused on demos (sometimes called \"demo retrospectives\") are crucial for improving how future demos are conducted. During these sessions, the team discusses:\n",
    "\n",
    "- What went well in the demo presentation\n",
    "- What could have been done better\n",
    "- How the demo could have been more effective\n",
    "- Any feedback from stakeholders (the teacher) and how it will be - incorporated into the next iteration"
   ]
  },
  {
   "cell_type": "markdown",
   "metadata": {},
   "source": [
    "#### <span style=\"color: #blue; text-shadow: 3px 3px 8px #4682B4; font-weight: bold; font-size: 1.3em;\">   4. What Happens During a Retrospective on a Demo?</span>\n",
    "Here’s a simple process that happens during these retrospective meetings:\n",
    "\n",
    "- Review the Demo: The team watches or discusses the demo that was just presented, reviewing the key elements.\n",
    "- Discuss What Worked: Identify what was effective in the demo — did the stakeholders understand the functionality? Was the demo clear and smooth?\n",
    "- Identify Issues or Problems: Point out areas that could be improved — were there any technical issues during the demo? Did the stakeholders have trouble understanding the feature?\n",
    "- Plan for Improvements: Discuss strategies to make the next demo better. This could involve improving the demo flow, fixing bugs before the demo, or improving communication with stakeholders."
   ]
  },
  {
   "cell_type": "markdown",
   "metadata": {},
   "source": [
    "#### <span style=\"color: #blue; text-shadow: 3px 3px 8px #4682B4; font-weight: bold; font-size: 1.3em;\">   5. Benefits of Retrospective on Demos?</span>\n",
    "- Improved Communication: By actively discussing demos, teams get better at presenting and explaining their work.\n",
    "\n",
    "- Feedback Integration: Teams get immediate feedback on what’s working and what needs to be fixed or changed.\n",
    "\n",
    "- Team Alignment: Everyone on the team gets a chance to reflect and contribute, ensuring they’re aligned on the project’s goals and presentation style.\n",
    "\n",
    "- Quality Improvement: By addressing demo issues early, the overall quality of the project improves faster, leading to fewer misunderstandings and smoother product releases."
   ]
  }
 ],
 "metadata": {
  "kernelspec": {
   "display_name": "venv",
   "language": "python",
   "name": "python3"
  },
  "language_info": {
   "codemirror_mode": {
    "name": "ipython",
    "version": 3
   },
   "file_extension": ".py",
   "mimetype": "text/x-python",
   "name": "python",
   "nbconvert_exporter": "python",
   "pygments_lexer": "ipython3",
   "version": "3.10.12"
  }
 },
 "nbformat": 4,
 "nbformat_minor": 2
}
