{
 "cells": [
  {
   "cell_type": "raw",
   "metadata": {
    "vscode": {
     "languageId": "raw"
    }
   },
   "source": [
    "---\n",
    "comments: True\n",
    "layout: post\n",
    "title: Data Types\n",
    "description: Numbers, strings, booleans, arrays, JSON objects\n",
    "author: Leila H.\n",
    "permalink: Final/Exam/Blogs/data-types/\n",
    "categories: [Final Exam Blogs]\n",
    "---"
   ]
  },
  {
   "cell_type": "markdown",
   "metadata": {},
   "source": [
    "#### <span style=\"color: #blue; text-shadow: 3px 3px 8px #4682B4; font-weight: bold; font-size: 1.3em;\"> Data Types:</span>\n",
    "Data Types refer to the classification or categorization of data items based on the kind of value they represent and the operations that can be performed on them. They are fundamental concepts in programming, determining how data is stored, processed, and manipulated within a program. Understanding data types ensures efficient use of memory and proper handling of information."
   ]
  },
  {
   "cell_type": "markdown",
   "metadata": {},
   "source": [
    "#### <span style=\"color: #blue; text-shadow: 3px 3px 8px #4682B4; font-weight: bold; font-size: 1.3em;\">  Numbers:</span>\n",
    "These are used to represent numerical values. They can be integers (whole numbers) or floating-point numbers (decimals).\n",
    "\n",
    "Example: 5, 3.14\n",
    "\n",
    "Example: (from code)\n"
   ]
  },
  {
   "cell_type": "code",
   "execution_count": null,
   "metadata": {
    "vscode": {
     "languageId": "javascript"
    }
   },
   "outputs": [],
   "source": [
    "this.pixels = {{pixels}}; //pixel offset of images in the sprite, set by liquid constant\n",
    "      this.interval = 100; //animation time interval"
   ]
  },
  {
   "cell_type": "markdown",
   "metadata": {},
   "source": [
    "#### <span style=\"color: #blue; text-shadow: 3px 3px 8px #4682B4; font-weight: bold; font-size: 1.3em;\">  Strings:</span>\n",
    "A string is a sequence of characters (letters, numbers, symbols) enclosed in quotation marks. They are used to represent text.\n",
    "\n",
    "Example: \"Hello, world!\", '123abc'\n",
    "\n",
    "Example: (from code)\n"
   ]
  },
  {
   "cell_type": "code",
   "execution_count": null,
   "metadata": {
    "vscode": {
     "languageId": "javascript"
    }
   },
   "outputs": [],
   "source": [
    "if (event.key === \"ArrowRight\") {\n",
    "}"
   ]
  },
  {
   "cell_type": "markdown",
   "metadata": {},
   "source": [
    "#### <span style=\"color: #blue; text-shadow: 3px 3px 8px #4682B4; font-weight: bold; font-size: 1.3em;\">  Booleans:</span>\n",
    "A boolean data type can only have one of two values: True or False. They are used for making decisions in conditional statements.\n",
    "\n",
    "Example: True, False\n",
    "\n",
    "Example: (from code)\n"
   ]
  },
  {
   "cell_type": "code",
   "execution_count": null,
   "metadata": {
    "vscode": {
     "languageId": "javascript"
    }
   },
   "outputs": [],
   "source": [
    "if (event.repeat) {\n",
    "}"
   ]
  },
  {
   "cell_type": "markdown",
   "metadata": {},
   "source": [
    "#### <span style=\"color: #blue; text-shadow: 3px 3px 8px #4682B4; font-weight: bold; font-size: 1.3em;\">  Arrays:</span>\n",
    "Arrays (also called lists in some languages) are ordered collections of items, which can be of any data type (numbers, strings, etc.). They are useful for storing multiple values in a single variable.\n",
    "\n",
    "Example: [1, 2, 3, 4], [\"cat\", \"cat1\", \"cat2\"]"
   ]
  },
  {
   "cell_type": "markdown",
   "metadata": {},
   "source": [
    "#### <span style=\"color: #blue; text-shadow: 3px 3px 8px #4682B4; font-weight: bold; font-size: 1.3em;\">  JSON Objects:</span>\n",
    "JSON (JavaScript Object Notation) is a way of structuring data in a key-value pair format. It is often used for exchanging data between a server and a client in web applications. JSON objects can store multiple data types and even arrays within them.\n",
    "\n",
    "Example: {\"name\": \"Cat\", \"age\": 2, \"isHuman\": false}"
   ]
  }
 ],
 "metadata": {
  "kernelspec": {
   "display_name": "venv",
   "language": "python",
   "name": "python3"
  },
  "language_info": {
   "codemirror_mode": {
    "name": "ipython",
    "version": 3
   },
   "file_extension": ".py",
   "mimetype": "text/x-python",
   "name": "python",
   "nbconvert_exporter": "python",
   "pygments_lexer": "ipython3",
   "version": "3.10.12"
  }
 },
 "nbformat": 4,
 "nbformat_minor": 2
}
