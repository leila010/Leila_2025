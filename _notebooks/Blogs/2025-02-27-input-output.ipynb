{
 "cells": [
  {
   "cell_type": "raw",
   "metadata": {
    "vscode": {
     "languageId": "raw"
    }
   },
   "source": [
    "---\n",
    "comments: True\n",
    "layout: post\n",
    "title: Input/Output\n",
    "description: HTML5 input, validation, Document Object Model (DOM)\n",
    "author: Leila H.\n",
    "permalink: Final/Exam/Blogs/input-output/\n",
    "categories: [Final Exam Blogs]"
   ]
  },
  {
   "cell_type": "markdown",
   "metadata": {},
   "source": [
    "#### <span style=\"color: #blue; text-shadow: 3px 3px 8px #4682B4; font-weight: bold; font-size: 1.3em;\">  Input/Output:</span>\n",
    "Input/Output in the context of web development involves how data is received from users (input) and how data is presented back to them (output)."
   ]
  },
  {
   "cell_type": "markdown",
   "metadata": {},
   "source": [
    "#### <span style=\"color: #blue; text-shadow: 3px 3px 8px #4682B4; font-weight: bold; font-size: 1.3em;\">  HTML5 Input:</span>\n",
    "HTML5 introduces a variety of input elements and attributes that allow users to interact with a web page by providing data. These include text fields, checkboxes, radio buttons, file uploads, and more. These inputs allow users to send data to the server or manipulate data on the client side.\n"
   ]
  },
  {
   "cell_type": "markdown",
   "metadata": {},
   "source": [
    "#### <span style=\"color: #blue; text-shadow: 3px 3px 8px #4682B4; font-weight: bold; font-size: 1.3em;\">  Validation:</span>\n",
    "Validation is the process of checking user input to ensure that it meets specific criteria before it is processed or submitted. HTML5 provides built-in form validation with attributes like required, pattern, min, max, maxlength, and type (e.g., email, number), which automatically check the input as the user interacts with the form.\n"
   ]
  },
  {
   "cell_type": "markdown",
   "metadata": {},
   "source": [
    "#### <span style=\"color: #blue; text-shadow: 3px 3px 8px #4682B4; font-weight: bold; font-size: 1.3em;\">  Document Object Model (DOM):</span>\n",
    "The DOM represents the structure of a web page as a tree of objects, where each object corresponds to an HTML element. It allows you to manipulate, add, or remove elements dynamically using JavaScript. Through the DOM, developers can update content, style, and structure of a web page after it’s loaded."
   ]
  }
 ],
 "metadata": {
  "kernelspec": {
   "display_name": "venv",
   "language": "python",
   "name": "python3"
  },
  "language_info": {
   "codemirror_mode": {
    "name": "ipython",
    "version": 3
   },
   "file_extension": ".py",
   "mimetype": "text/x-python",
   "name": "python",
   "nbconvert_exporter": "python",
   "pygments_lexer": "ipython3",
   "version": "3.10.12"
  }
 },
 "nbformat": 4,
 "nbformat_minor": 2
}
