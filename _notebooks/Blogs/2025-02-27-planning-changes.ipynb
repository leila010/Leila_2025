{
 "cells": [
  {
   "cell_type": "raw",
   "metadata": {
    "vscode": {
     "languageId": "raw"
    }
   },
   "source": [
    "---\n",
    "comments: True\n",
    "layout: post\n",
    "title: Planning Changes\n",
    "description: methods, instantiating objects, using objects, calling methods, parameters, return values\n",
    "author: Leila H.\n",
    "permalink: Final/Exam/Blogs/planning-changes/\n",
    "categories: [Final Exam Blogs]\n",
    "---"
   ]
  },
  {
   "cell_type": "markdown",
   "metadata": {},
   "source": [
    "#### <span style=\"color: #blue; text-shadow: 3px 3px 8px #4682B4; font-weight: bold; font-size: 1.3em;\">   Planning Changes:</span>\n",
    "Planning changes means deciding what needs to be fixed or improved in your project before you start. Think of it as making a list of tasks you need to do.\n",
    "\n",
    "Example: If you’re building a website, you might plan to fix broken links, change the design, or add new pages.\n",
    "\n",
    "Example:\n",
    "\n",
    "![Image](https://github.com/user-attachments/assets/08e9b4f0-237e-4e3d-aa8d-7d0fbd92e5f1)\n",
    "\n",
    "#### <span style=\"color: #blue; text-shadow: 3px 3px 8px #4682B4; font-weight: bold; font-size: 1.3em;\">   Checklists:</span>\n",
    "A checklist is a list of tasks you need to complete, helping you stay organized and ensuring you don't forget anything.\n",
    "\n",
    "Example: If you’re fixing a bug in your code, your checklist might include:\n",
    "- Find the bug\n",
    "- Fix the code\n",
    "- Test the fix\n",
    "- Update documentation\n",
    "\n",
    "#### <span style=\"color: #blue; text-shadow: 3px 3px 8px #4682B4; font-weight: bold; font-size: 1.3em;\">   Burndowns:</span>\n",
    "A burndown chart is a visual way of tracking your progress on a project. It shows how much work is left over time. You can think of it as a \"countdown\" to the finish line, where the goal is to have zero tasks remaining by the end.\n",
    "\n",
    "Example: If you have 10 tasks to finish in a week, the burndown chart would show the number of tasks left each day, so you can see if you’re on track.\n",
    "\n",
    "Example:\n",
    "\n",
    "![Image](https://github.com/user-attachments/assets/0b8f053c-e92a-4e95-bec6-a61c2aa6a723)\n",
    "\n"
   ]
  },
  {
   "cell_type": "markdown",
   "metadata": {},
   "source": [
    "#### <span style=\"color: #blue; text-shadow: 3px 3px 8px #4682B4; font-weight: bold; font-size: 1.3em;\">   Coding with Comments:</span>\n",
    "When you write code, comments are notes you add to explain what the code does. This makes it easier for you or others to understand your code later.\n",
    "\n",
    "Example:\n",
    "\n",
    "\n",
    "- The green is comments explaining/identifying the code"
   ]
  },
  {
   "cell_type": "code",
   "execution_count": null,
   "metadata": {
    "vscode": {
     "languageId": "javascript"
    }
   },
   "outputs": [],
   "source": [
    " ////////// game object for player /////////\n",
    "\n",
    "  class Mario {\n",
    "    constructor(meta_data) {\n",
    "      this.tID = null;  //capture setInterval() task ID\n",
    "      this.positionX = 0;  // current position of sprite in X direction\n",
    "      this.currentSpeed = 0;\n",
    "      this.marioElement = document.getElementById(\"mario\"); //HTML element of sprite\n",
    "      this.pixels = {{pixels}}; //pixel offset of images in the sprite, set by liquid constant\n",
    "      this.interval = 100; //animation time interval\n",
    "      this.obj = meta_data;\n",
    "      this.marioElement.style.position = \"absolute\";\n",
    "    }"
   ]
  },
  {
   "cell_type": "markdown",
   "metadata": {},
   "source": [
    "#### <span style=\"color: #blue; text-shadow: 3px 3px 8px #4682B4; font-weight: bold; font-size: 1.3em;\">   Building Develpment Help Documentation:</span>\n",
    "Documentation is like a user manual for your code or project. It explains how to use the project, how to fix common issues, and how others can contribute to it.\n",
    "\n",
    "- Example: You could write a simple document that explains how to install your app, what features it has, and how people can report bugs."
   ]
  }
 ],
 "metadata": {
  "kernelspec": {
   "display_name": "venv",
   "language": "python",
   "name": "python3"
  },
  "language_info": {
   "codemirror_mode": {
    "name": "ipython",
    "version": 3
   },
   "file_extension": ".py",
   "mimetype": "text/x-python",
   "name": "python",
   "nbconvert_exporter": "python",
   "pygments_lexer": "ipython3",
   "version": "3.10.12"
  }
 },
 "nbformat": 4,
 "nbformat_minor": 2
}
