{
 "cells": [
  {
   "cell_type": "raw",
   "metadata": {
    "vscode": {
     "languageId": "raw"
    }
   },
   "source": [
    "---\n",
    "comments: True\n",
    "layout: post\n",
    "title: Control Structures\n",
    "description: Iteration, conditions, nested conditions\n",
    "author: Leila H.\n",
    "permalink: Final/Exam/Blogs/control-structures/\n",
    "categories: [Final Exam Blogs]\n",
    "---"
   ]
  },
  {
   "cell_type": "markdown",
   "metadata": {},
   "source": [
    "#### <span style=\"color: #blue; text-shadow: 3px 3px 8px #4682B4; font-weight: bold; font-size: 1.3em;\"> Control Structures:</span>\n",
    "Control Structures are the building blocks in programming that dictate the flow of execution in a program. They allow you to control how the program behaves based on certain conditions or repetitive actions.\n",
    "\n",
    "Examples of them are:\n",
    "↓ ↓ ↓ "
   ]
  },
  {
   "cell_type": "markdown",
   "metadata": {},
   "source": [
    "#### <span style=\"color: #blue; text-shadow: 3px 3px 8px #4682B4; font-weight: bold; font-size: 1.3em;\"> Iteration:</span>\n",
    "This refers to repeating a set of instructions multiple times. It allows you to perform an action repeatedly, such as going through items in a list, or performing a task until a certain condition is met. It helps automate repetitive tasks and makes code more efficient.\n",
    "\n",
    "Example: (from code)\n"
   ]
  },
  {
   "cell_type": "code",
   "execution_count": null,
   "metadata": {
    "vscode": {
     "languageId": "javascript"
    }
   },
   "outputs": [],
   "source": [
    "      this.tID = setInterval(() => {\n",
    "        const col = (frame + obj.col) * this.pixels;\n",
    "        this.marioElement.style.backgroundPosition = `-${col}px -${row}px`;\n",
    "        this.marioElement.style.left = `${this.positionX}px`;\n",
    "\n",
    "        this.positionX += speed;\n",
    "        frame = (frame + 1) % obj.frames;\n",
    "\n",
    "        const viewportWidth = window.innerWidth;\n",
    "        if (this.positionX > viewportWidth - this.pixels) {\n",
    "          document.documentElement.scrollLeft = this.positionX - viewportWidth + this.pixels;\n",
    "        }\n",
    "      }, this.interval);\n",
    "    "
   ]
  },
  {
   "cell_type": "markdown",
   "metadata": {},
   "source": [
    "#### <span style=\"color: #blue; text-shadow: 3px 3px 8px #4682B4; font-weight: bold; font-size: 1.3em;\"> Conditions:</span>\n",
    "Conditions allow you to make decisions in your program. They evaluate whether something is true or false and execute different code based on the result. If a condition is true, one block of code runs; if it's false, another block of code may run. It enables the program to react to different situations.\n",
    "\n",
    "Example: (from code)\n"
   ]
  },
  {
   "cell_type": "code",
   "execution_count": null,
   "metadata": {
    "vscode": {
     "languageId": "javascript"
    }
   },
   "outputs": [],
   "source": [
    "window.addEventListener(\"keydown\", (event) => {\n",
    "    if (event.key === \"ArrowRight\") {\n",
    "      event.preventDefault();\n",
    "      if (event.repeat) {\n",
    "        mario.startCheering();\n",
    "      } else {\n",
    "        if (mario.currentSpeed === 0) {\n",
    "          mario.startWalking();\n",
    "        } else if (mario.currentSpeed === 3) {\n",
    "          mario.startRunning();\n",
    "        }\n",
    "      }\n",
    "    } else if (event.key === \"ArrowLeft\") {\n",
    "      event.preventDefault();\n",
    "      if (event.repeat) {\n",
    "        mario.stopAnimate();\n",
    "      } else {\n",
    "        mario.startPuffing();\n",
    "      }\n",
    "    }\n",
    "  });"
   ]
  },
  {
   "cell_type": "markdown",
   "metadata": {},
   "source": [
    "#### <span style=\"color: #blue; text-shadow: 3px 3px 8px #4682B4; font-weight: bold; font-size: 1.3em;\"> Nested Conditions:</span>\n",
    "Nested conditions occur when one condition is placed inside another. This allows for more specific decision-making. If a condition within a condition is true, it will trigger further checks or actions, helping to handle more complex scenarios where multiple factors need to be evaluated.\n",
    "\n",
    "Example: (from code)\n"
   ]
  },
  {
   "cell_type": "code",
   "execution_count": null,
   "metadata": {
    "vscode": {
     "languageId": "javascript"
    }
   },
   "outputs": [],
   "source": [
    "window.addEventListener(\"keydown\", (event) => {\n",
    "    if (event.key === \"ArrowRight\") {\n",
    "      event.preventDefault();\n",
    "      if (event.repeat) {\n",
    "        mario.startCheering();\n",
    "      } else {\n",
    "        if (mario.currentSpeed === 0) {\n",
    "          mario.startWalking();\n",
    "        } else if (mario.currentSpeed === 3) {\n",
    "          mario.startRunning();\n",
    "        }\n",
    "      }"
   ]
  }
 ],
 "metadata": {
  "kernelspec": {
   "display_name": "venv",
   "language": "python",
   "name": "python3"
  },
  "language_info": {
   "codemirror_mode": {
    "name": "ipython",
    "version": 3
   },
   "file_extension": ".py",
   "mimetype": "text/x-python",
   "name": "python",
   "nbconvert_exporter": "python",
   "pygments_lexer": "ipython3",
   "version": "3.10.12"
  }
 },
 "nbformat": 4,
 "nbformat_minor": 2
}
