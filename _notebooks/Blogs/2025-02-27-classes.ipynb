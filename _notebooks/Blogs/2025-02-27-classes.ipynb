{
 "cells": [
  {
   "cell_type": "raw",
   "metadata": {
    "vscode": {
     "languageId": "raw"
    }
   },
   "source": [
    "---\n",
    "comments: True\n",
    "layout: post\n",
    "title: Classes, Drawio Diagram on classes\n",
    "description: methods, instantiating objects, using objects, calling methods, parameters, return values\n",
    "author: Leila H.\n",
    "permalink: Final/Exam/Blogs/classes/\n",
    "categories: [Final Exam Blogs]\n",
    "---"
   ]
  },
  {
   "cell_type": "markdown",
   "metadata": {},
   "source": [
    "#### <span style=\"color: #blue; text-shadow: 3px 3px 8px #4682B4; font-weight: bold; font-size: 1.3em;\"> Classes:</span>\n",
    "What is a class, and what is it used for? A class is a blueprint or template for creating objects. It defines attributes (data) and methods (actions) that the objects created from the class will have."
   ]
  },
  {
   "cell_type": "markdown",
   "metadata": {},
   "source": [
    "#### <span style=\"color: #blue; text-shadow: 3px 3px 8px #4682B4; font-weight: bold; font-size: 1.3em;\"> Methods:</span>\n",
    "Methods are functions that are defined inside a class. They describe actions an object of that class can perform. For example, a class Car might have a method start_engine() to start the car's engine. "
   ]
  },
  {
   "cell_type": "markdown",
   "metadata": {},
   "source": [
    "#### <span style=\"color: #blue; text-shadow: 3px 3px 8px #4682B4; font-weight: bold; font-size: 1.3em;\"> Instantiating Objects:</span>\n",
    "Instantiating Objects are creating an instance (or object) of a class. When you instantiate a class, you create a unique object with its own data and behavior. For example, creating a Car object named my_car from the Car class."
   ]
  },
  {
   "cell_type": "markdown",
   "metadata": {},
   "source": [
    "#### <span style=\"color: #blue; text-shadow: 3px 3px 8px #4682B4; font-weight: bold; font-size: 1.3em;\"> Using Objects:</span>\n",
    "After creating an object, you can use it by interacting with its attributes (data) or calling its methods (actions). For example, after instantiating a Car object, you can call its start_engine() method or check its color attribute."
   ]
  },
  {
   "cell_type": "markdown",
   "metadata": {},
   "source": [
    "#### <span style=\"color: #blue; text-shadow: 3px 3px 8px #4682B4; font-weight: bold; font-size: 1.3em;\"> Calling Methods:</span>\n",
    "To use the actions defined in a class, you call the object's methods. Methods might need parameters to specify how they should behave, like providing a speed value to a drive() method. Calling a method might return a result."
   ]
  },
  {
   "cell_type": "markdown",
   "metadata": {},
   "source": [
    "#### <span style=\"color: #blue; text-shadow: 3px 3px 8px #4682B4; font-weight: bold; font-size: 1.3em;\"> Parameters:</span>\n",
    "Values passed into methods when you call them. They allow the method to work with different inputs. For example, a drive(speed) method might take the speed as a parameter to decide how fast the car should go."
   ]
  },
  {
   "cell_type": "markdown",
   "metadata": {},
   "source": [
    "#### <span style=\"color: #blue; text-shadow: 3px 3px 8px #4682B4; font-weight: bold; font-size: 1.3em;\"> Return Values:</span>\n",
    " The output that a method gives after performing an action. When a method completes, it can return a result to be used later. For example, a method that calculates the area of a circle might return that value so you can use it elsewhere in your program."
   ]
  }
 ],
 "metadata": {
  "kernelspec": {
   "display_name": "venv",
   "language": "python",
   "name": "python3"
  },
  "language_info": {
   "codemirror_mode": {
    "name": "ipython",
    "version": 3
   },
   "file_extension": ".py",
   "mimetype": "text/x-python",
   "name": "python",
   "nbconvert_exporter": "python",
   "pygments_lexer": "ipython3",
   "version": "3.10.12"
  }
 },
 "nbformat": 4,
 "nbformat_minor": 2
}
