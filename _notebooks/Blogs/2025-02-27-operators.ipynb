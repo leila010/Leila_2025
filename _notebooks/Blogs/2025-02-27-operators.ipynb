{
 "cells": [
  {
   "cell_type": "raw",
   "metadata": {
    "vscode": {
     "languageId": "raw"
    }
   },
   "source": [
    "---\n",
    "comments: True\n",
    "layout: post\n",
    "title: Operators\n",
    "description: String operations, mathematical operations, boolean expressions\n",
    "author: Leila H.\n",
    "permalink: Final/Exam/Blogs/operators/\n",
    "categories: [Final Exam Blogs]\n",
    "---"
   ]
  },
  {
   "cell_type": "markdown",
   "metadata": {},
   "source": [
    "#### <span style=\"color: #blue; text-shadow: 3px 3px 8px #4682B4; font-weight: bold; font-size: 1.3em;\">  Operators:</span>\n",
    "Operators are symbols or keywords that perform operations on variables and values. In programming, operators are used to manipulate data and perform calculations."
   ]
  },
  {
   "cell_type": "markdown",
   "metadata": {},
   "source": [
    "#### <span style=\"color: #blue; text-shadow: 3px 3px 8px #4682B4; font-weight: bold; font-size: 1.3em;\">  String Operations:</span>\n",
    "String operators are used to manipulate text. Common string operations include:\n",
    "\n",
    "> Concatenation: Joining two or more strings together.\n",
    "    \n",
    "    Example: \"Hello\" + \" \" + \"World\" results in \"Hello World\".\n",
    "\n",
    "> Length: Finding the number of characters in a string.\n",
    "   \n",
    "    Example: \"Hello\".length would return 5.\n",
    "    \n",
    "> Comparison: Checking if two strings are equal or comparing them lexicographically.\n",
    "    \n",
    "    Example: \"apple\" == \"banana\" results in false."
   ]
  },
  {
   "cell_type": "markdown",
   "metadata": {},
   "source": [
    "#### <span style=\"color: #blue; text-shadow: 3px 3px 8px #4682B4; font-weight: bold; font-size: 1.3em;\">  Mathematical Operations:</span>\n",
    "Mathematical operators are used to perform arithmetic calculations. Common operations include:\n",
    "\n",
    "> Addition (+): Adding two values.\n",
    "\n",
    "    Example: 5 + 3 results in 8.\n",
    "\n",
    "> Subtraction (-): Subtracting one value from another.\n",
    "    \n",
    "    Example: 7 - 2 results in 5.\n",
    "    \n",
    "> Multiplication (*): Multiplying two values.\n",
    "\n",
    "    Example: 4 * 3 results in 12.\n",
    "\n",
    "> Division (/): Dividing one value by another.\n",
    "\n",
    "    Example: 10 / 2 results in 5.\n",
    "\n",
    "> Modulus (%): Finding the remainder of a division.\n",
    "\n",
    "Example: 10 % 3 results in 1."
   ]
  },
  {
   "cell_type": "markdown",
   "metadata": {},
   "source": [
    "#### <span style=\"color: #blue; text-shadow: 3px 3px 8px #4682B4; font-weight: bold; font-size: 1.3em;\">  Boolean Expressions:</span>\n",
    "Boolean operators are used to evaluate logical conditions, typically returning true or false. Common boolean operations include:\n",
    "\n",
    "> AND (&&): Returns true if both conditions are true.\n",
    "\n",
    "    Example: (5 > 3) && (4 < 6) results in true.\n",
    "\n",
    "> OR (||): Returns true if at least one condition is true.\n",
    "\n",
    "    Example: (5 > 3) || (4 > 6) results in true.\n",
    "\n",
    "> NOT (!): Reverses the boolean value.\n",
    "\n",
    "    Example: !(5 > 3) results in false because 5 > 3 is \n",
    "    true, and the NOT operator negates it."
   ]
  }
 ],
 "metadata": {
  "kernelspec": {
   "display_name": "venv",
   "language": "python",
   "name": "python3"
  },
  "language_info": {
   "codemirror_mode": {
    "name": "ipython",
    "version": 3
   },
   "file_extension": ".py",
   "mimetype": "text/x-python",
   "name": "python",
   "nbconvert_exporter": "python",
   "pygments_lexer": "ipython3",
   "version": "3.10.12"
  }
 },
 "nbformat": 4,
 "nbformat_minor": 2
}
