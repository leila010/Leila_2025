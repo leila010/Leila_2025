{
 "cells": [
  {
   "cell_type": "markdown",
   "metadata": {},
   "source": [
    "## Length of a List\n",
    "In JavaScript, the length of a list (also known as an array) refers to the number of elements it contains. It can be accessed using the (.length) property, which shows the total number of elements in the array.\n",
    "\n",
    "## Javascript Example:"
   ]
  },
  {
   "cell_type": "markdown",
   "metadata": {},
   "source": [
    "### Words Example:"
   ]
  },
  {
   "cell_type": "code",
   "execution_count": 20,
   "metadata": {
    "vscode": {
     "languageId": "javascript"
    }
   },
   "outputs": [
    {
     "data": {
      "application/javascript": "\nlet my_list = ['cat0', 'cat1', 'cat2', 'cat3']; //These are the items that will print on the console.log\nconst length = my_list.length; //length will be 4\nconsole.log(my_list); //This will show the given list\n",
      "text/plain": [
       "<IPython.core.display.Javascript object>"
      ]
     },
     "metadata": {},
     "output_type": "display_data"
    }
   ],
   "source": [
    "%%js\n",
    "\n",
    "let my_list = ['cat0', 'cat1', 'cat2', 'cat3']; //These are the items that will print on the console.log\n",
    "const length = my_list.length; //length will be 4\n",
    "console.log(my_list); //This will show the given list"
   ]
  },
  {
   "cell_type": "markdown",
   "metadata": {},
   "source": [
    "### Number Example:"
   ]
  },
  {
   "cell_type": "code",
   "execution_count": 21,
   "metadata": {
    "vscode": {
     "languageId": "javascript"
    }
   },
   "outputs": [
    {
     "data": {
      "application/javascript": "\nlet my_list = [2, 4, 6, 8, 10];//These are the #s that will be shown on the list\nconst length = my_list.length; //length will be 5\nconsole.log(my_list);//This will show the given list \n",
      "text/plain": [
       "<IPython.core.display.Javascript object>"
      ]
     },
     "metadata": {},
     "output_type": "display_data"
    }
   ],
   "source": [
    "%%js\n",
    "\n",
    "let my_list = [2, 4, 6, 8, 10];//These are the #s that will be shown on the list\n",
    "const length = my_list.length; //length will be 5\n",
    "console.log(my_list);//This will show the given list "
   ]
  },
  {
   "cell_type": "code",
   "execution_count": 22,
   "metadata": {
    "vscode": {
     "languageId": "javascript"
    }
   },
   "outputs": [
    {
     "data": {
      "application/javascript": "function findMinimum(numbers) {\n    let min = numbers[0]; // Start with the first number\n\n    for (let i = 1; i < numbers.length; i++) { // Go through each number\n        if (numbers[i] < min) { // Check if it's smaller\n            min = numbers[i]; // Update min if it's smaller\n        }\n    }\n    return min; // Return the smallest number\n}\n\nlet myList = [5, 2, 8, 1, 4];\nlet minimumValue = findMinimum(myList); // Call the function\nconsole.log(\"The minimum value is:\", minimumValue); // Print the result\n",
      "text/plain": [
       "<IPython.core.display.Javascript object>"
      ]
     },
     "metadata": {},
     "output_type": "display_data"
    }
   ],
   "source": [
    "%%js \n",
    "function findMinimum(numbers) {\n",
    "    let min = numbers[0]; // Start with the first number\n",
    "\n",
    "    for (let i = 1; i < numbers.length; i++) { // Go through each number\n",
    "        if (numbers[i] < min) { // Check if it's smaller\n",
    "            min = numbers[i]; // Update min if it's smaller\n",
    "        }\n",
    "    }\n",
    "    return min; // Return the smallest number\n",
    "}\n",
    "\n",
    "let myList = [5, 2, 8, 1, 4];\n",
    "let minimumValue = findMinimum(myList); // Call the function\n",
    "console.log(\"The minimum value is:\", minimumValue); // Print the result"
   ]
  },
  {
   "cell_type": "markdown",
   "metadata": {},
   "source": [
    "## Finding the Minimum Value:\n",
    "You can use Math.min() to help you find the minimum value in an array."
   ]
  },
  {
   "cell_type": "code",
   "execution_count": 23,
   "metadata": {
    "vscode": {
     "languageId": "javascript"
    }
   },
   "outputs": [
    {
     "data": {
      "application/javascript": "let numbers = [5, 8, 2, 1, 9];\nlet minValue = Math.min(...numbers);  // Spread operator to pass elements as arguments\nconsole.log(minValue);  // Output: 1\n",
      "text/plain": [
       "<IPython.core.display.Javascript object>"
      ]
     },
     "metadata": {},
     "output_type": "display_data"
    }
   ],
   "source": [
    "%%js\n",
    "let numbers = [5, 8, 2, 1, 9];\n",
    "let minValue = Math.min(...numbers);  // Spread operator to pass elements as arguments\n",
    "console.log(minValue);  // Output: 1"
   ]
  },
  {
   "cell_type": "markdown",
   "metadata": {},
   "source": [
    "## Finding an Element in an Array:\n",
    "To see if an element exists in an array you can use Array.prototype.includes()"
   ]
  },
  {
   "cell_type": "code",
   "execution_count": 24,
   "metadata": {
    "vscode": {
     "languageId": "javascript"
    }
   },
   "outputs": [
    {
     "data": {
      "application/javascript": "let fishes = ['fish0', 'fish1', 'fish2'];\nlet hasfish0 = fruits.includes('fish0');  // Check if 'fish0' is in the array\nconsole.log(hasfish0);  // Output: true\n",
      "text/plain": [
       "<IPython.core.display.Javascript object>"
      ]
     },
     "metadata": {},
     "output_type": "display_data"
    }
   ],
   "source": [
    "%%js \n",
    "let fishes = ['fish0', 'fish1', 'fish2'];\n",
    "let hasfish0 = fruits.includes('fish0');  // Check if 'fish0' is in the array\n",
    "console.log(hasfish0);  // Output: true"
   ]
  },
  {
   "cell_type": "markdown",
   "metadata": {},
   "source": [
    "## Homework:"
   ]
  }
 ],
 "metadata": {
  "kernelspec": {
   "display_name": "venv",
   "language": "python",
   "name": "python3"
  },
  "language_info": {
   "codemirror_mode": {
    "name": "ipython",
    "version": 3
   },
   "file_extension": ".py",
   "mimetype": "text/x-python",
   "name": "python",
   "nbconvert_exporter": "python",
   "pygments_lexer": "ipython3",
   "version": "3.10.12"
  }
 },
 "nbformat": 4,
 "nbformat_minor": 2
}
