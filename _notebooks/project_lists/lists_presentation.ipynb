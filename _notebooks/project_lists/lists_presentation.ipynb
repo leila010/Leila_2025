{
 "cells": [
  {
   "cell_type": "markdown",
   "metadata": {},
   "source": [
    "## Length of a List\n",
    " The length of a list you can use multiple different coding methods:\n",
    "    - JavaScript: .length\n",
    "    - Python: len()\n",
    "These ways of getting a list can help return the total number of elements in a list. \n",
    "\n",
    "## Javascript Example:\n",
    "\n",
    "\n",
    "## Python "
   ]
  }
 ],
 "metadata": {
  "kernelspec": {
   "display_name": "Python 3.8.10 64-bit",
   "language": "python",
   "name": "python3"
  },
  "language_info": {
   "codemirror_mode": {
    "name": "ipython",
    "version": 3
   },
   "file_extension": ".py",
   "mimetype": "text/x-python",
   "name": "python",
   "nbconvert_exporter": "python",
   "pygments_lexer": "ipython3",
   "version": "3.11.4"
  },
  "vscode": {
   "interpreter": {
    "hash": "916dbcbb3f70747c44a77c7bcd40155683ae19c65e1c03b4aa3499c5328201f1"
   }
  }
 },
 "nbformat": 4,
 "nbformat_minor": 2
}
