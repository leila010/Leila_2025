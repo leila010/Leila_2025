{
 "cells": [
  {
   "cell_type": "markdown",
   "metadata": {},
   "source": [
    "## Length of a List\n",
    "XXX\n",
    "These ways of getting a list can help return the total number of elements in a list. \n",
    "\n",
    "## Javascript Example:"
   ]
  },
  {
   "cell_type": "markdown",
   "metadata": {},
   "source": [
    "## Words Example:"
   ]
  },
  {
   "cell_type": "code",
   "execution_count": null,
   "metadata": {
    "vscode": {
     "languageId": "javascript"
    }
   },
   "outputs": [
    {
     "data": {
      "application/javascript": "\nlet my_list = ['cat0', 'cat1', 'cat2', 'cat3']; //These are the items that will print on the console.log\nconst length = my_list.length; //length will be 4\nconsole.log(my_list); //This will show the given list\n",
      "text/plain": [
       "<IPython.core.display.Javascript object>"
      ]
     },
     "metadata": {},
     "output_type": "display_data"
    }
   ],
   "source": [
    "%%js\n",
    "\n",
    "let my_list = ['cat0', 'cat1', 'cat2', 'cat3']; //These are the items that will print on the console.log\n",
    "const length = my_list.length; //length will be 4\n",
    "console.log(my_list); //This will show the given list"
   ]
  },
  {
   "cell_type": "markdown",
   "metadata": {},
   "source": [
    "## Number Example:"
   ]
  },
  {
   "cell_type": "code",
   "execution_count": null,
   "metadata": {
    "vscode": {
     "languageId": "javascript"
    }
   },
   "outputs": [
    {
     "data": {
      "application/javascript": "\nlet my_list = [2, 4, 6, 8, 10];\nconst length = my_list.length;\nconsole.log(my_list);\n",
      "text/plain": [
       "<IPython.core.display.Javascript object>"
      ]
     },
     "metadata": {},
     "output_type": "display_data"
    }
   ],
   "source": [
    "%%js\n",
    "\n",
    "let my_list = [2, 4, 6, 8, 10];//These are the #s that will be shown on the list\n",
    "const length = my_list.length; //length will be 5\n",
    "console.log(my_list);//This will show the given list "
   ]
  },
  {
   "cell_type": "markdown",
   "metadata": {},
   "source": [
    "## Minimum Value and Finding an Element\n",
    "\n",
    "Finding the minimum value of a list in Javascript is to first designate the list and a variable that can help serve as the probable minimum value. After that we need to loop over the list and make sure each value is fewer than the probable minimum. If the element is less, the minimum is modified. Minimum is then visible when all the elements are tested."
   ]
  },
  {
   "cell_type": "code",
   "execution_count": 2,
   "metadata": {
    "vscode": {
     "languageId": "javascript"
    }
   },
   "outputs": [
    {
     "data": {
      "application/javascript": "function findMinimum(numbers) {\n    let min = numbers[0]; // Start with the first number\n\n    for (let i = 1; i < numbers.length; i++) { // Go through each number\n        if (numbers[i] < min) { // Check if it's smaller\n            min = numbers[i]; // Update min if it's smaller\n        }\n    }\n    return min; // Return the smallest number\n}\n\nlet myList = [5, 2, 8, 1, 4];\nlet minimumValue = findMinimum(myList); // Call the function\nconsole.log(\"The minimum value is:\", minimumValue); // Print the result\n",
      "text/plain": [
       "<IPython.core.display.Javascript object>"
      ]
     },
     "metadata": {},
     "output_type": "display_data"
    }
   ],
   "source": [
    "%%js \n",
    "function findMinimum(numbers) {\n",
    "    let min = numbers[0]; // Start with the first number\n",
    "\n",
    "    for (let i = 1; i < numbers.length; i++) { // Go through each number\n",
    "        if (numbers[i] < min) { // Check if it's smaller\n",
    "            min = numbers[i]; // Update min if it's smaller\n",
    "        }\n",
    "    }\n",
    "    return min; // Return the smallest number\n",
    "}\n",
    "\n",
    "let myList = [5, 2, 8, 1, 4];\n",
    "let minimumValue = findMinimum(myList); // Call the function\n",
    "console.log(\"The minimum value is:\", minimumValue); // Print the result"
   ]
  }
 ],
 "metadata": {
  "kernelspec": {
   "display_name": "venv",
   "language": "python",
   "name": "python3"
  },
  "language_info": {
   "codemirror_mode": {
    "name": "ipython",
    "version": 3
   },
   "file_extension": ".py",
   "mimetype": "text/x-python",
   "name": "python",
   "nbconvert_exporter": "python",
   "pygments_lexer": "ipython3",
   "version": "3.10.12"
  }
 },
 "nbformat": 4,
 "nbformat_minor": 2
}
