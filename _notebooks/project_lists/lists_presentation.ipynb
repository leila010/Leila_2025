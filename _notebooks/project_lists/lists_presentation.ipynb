{
 "cells": [
  {
   "cell_type": "markdown",
   "metadata": {},
   "source": [
    "## Length of a List\n",
    " The length of a list you can use multiple different coding methods:\n",
    "    - JavaScript: .length\n",
    "    - Python: len()\n",
    "These ways of getting a list can help return the total number of elements in a list. \n",
    "\n",
    "## Javascript Example:"
   ]
  },
  {
   "cell_type": "code",
   "execution_count": 11,
   "metadata": {
    "vscode": {
     "languageId": "html"
    }
   },
   "outputs": [
    {
     "data": {
      "text/html": [
       "\n",
       "<!-- HTML output div -->\n",
       "<div id=\"forEach\"></div>\n",
       "\n",
       "<script>\n",
       "    var codingAdventures = ['cat', 'dog', 'starfish', 'duck'];\n",
       "\n",
       "    // ForEach loop to iterate over the array\n",
       "    for (let adventure of codingAdventures) {\n",
       "\n",
       "        // Create a p tag for each adventure and add it to the forEach div\n",
       "        const p = document.createElement('p');\n",
       "        p.innerHTML = adventure;\n",
       "        document.getElementById('forEach').appendChild(p);\n",
       "\n",
       "    }\n",
       "</script>\n"
      ],
      "text/plain": [
       "<IPython.core.display.HTML object>"
      ]
     },
     "metadata": {},
     "output_type": "display_data"
    }
   ],
   "source": [
    "%%html\n",
    "\n",
    "<!-- HTML output div -->\n",
    "<div id=\"forEach\"></div>\n",
    "\n",
    "<script>\n",
    "    var codingAdventures = ['cat', 'dog', 'starfish', 'duck'];\n",
    "\n",
    "    // ForEach loop to iterate over the array\n",
    "    for (let adventure of codingAdventures) {\n",
    "\n",
    "        // Create a p tag for each adventure and add it to the forEach div\n",
    "        const p = document.createElement('p');\n",
    "        p.innerHTML = adventure;\n",
    "        document.getElementById('forEach').appendChild(p);\n",
    "\n",
    "    }\n",
    "</script>"
   ]
  },
  {
   "cell_type": "markdown",
   "metadata": {},
   "source": [
    "## Minimum Value and Finding an Element\n",
    "\n",
    "Finding the minimum value of a list in Javascript is to first designate the list and a variable that can help serve as the probable minimum value. After that we need to loop over the list and make sure each value is fewer than the probable minimum. If the element is less, the minimum is modified. Minimum is then visible when all the elements are tested."
   ]
  },
  {
   "cell_type": "code",
   "execution_count": 14,
   "metadata": {
    "vscode": {
     "languageId": "javascript"
    }
   },
   "outputs": [
    {
     "data": {
      "application/javascript": "function findMinimum(numbers) {\n    let min = numbers[0]; // Start with the first number\n\n    for (let i = 1; i < numbers.length; i++) { // Go through each number\n        if (numbers[i] < min) { // Check if it's smaller\n            min = numbers[i]; // Update min if it's smaller\n        }\n    }\n    return min; // Return the smallest number\n}\n\nlet myList = [5, 2, 8, 1, 4];\nlet minimumValue = findMinimum(myList); // Call the function\nconsole.log(\"The minimum value is:\", minimumValue); // Print the result\n",
      "text/plain": [
       "<IPython.core.display.Javascript object>"
      ]
     },
     "metadata": {},
     "output_type": "display_data"
    }
   ],
   "source": [
    "%%js \n",
    "function findMinimum(numbers) {\n",
    "    let min = numbers[0]; // Start with the first number\n",
    "\n",
    "    for (let i = 1; i < numbers.length; i++) { // Go through each number\n",
    "        if (numbers[i] < min) { // Check if it's smaller\n",
    "            min = numbers[i]; // Update min if it's smaller\n",
    "        }\n",
    "    }\n",
    "    return min; // Return the smallest number\n",
    "}\n",
    "\n",
    "let myList = [5, 2, 8, 1, 4];\n",
    "let minimumValue = findMinimum(myList); // Call the function\n",
    "console.log(\"The minimum value is:\", minimumValue); // Print the result"
   ]
  }
 ],
 "metadata": {
  "kernelspec": {
   "display_name": "venv",
   "language": "python",
   "name": "python3"
  },
  "language_info": {
   "codemirror_mode": {
    "name": "ipython",
    "version": 3
   },
   "file_extension": ".py",
   "mimetype": "text/x-python",
   "name": "python",
   "nbconvert_exporter": "python",
   "pygments_lexer": "ipython3",
   "version": "3.10.12"
  }
 },
 "nbformat": 4,
 "nbformat_minor": 2
}
